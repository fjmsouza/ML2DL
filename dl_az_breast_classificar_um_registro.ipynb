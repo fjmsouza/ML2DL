{
  "nbformat": 4,
  "nbformat_minor": 0,
  "metadata": {
    "colab": {
      "provenance": [],
      "authorship_tag": "ABX9TyM+A46SJSjdLQY6XGJj4Wwm",
      "include_colab_link": true
    },
    "kernelspec": {
      "name": "python3",
      "display_name": "Python 3"
    },
    "language_info": {
      "name": "python"
    }
  },
  "cells": [
    {
      "cell_type": "markdown",
      "metadata": {
        "id": "view-in-github",
        "colab_type": "text"
      },
      "source": [
        "<a href=\"https://colab.research.google.com/github/fjmsouza/ML2DL/blob/main/dl_az_breast_classificar_um_registro.ipynb\" target=\"_parent\"><img src=\"https://colab.research.google.com/assets/colab-badge.svg\" alt=\"Open In Colab\"/></a>"
      ]
    },
    {
      "cell_type": "code",
      "execution_count": null,
      "metadata": {
        "id": "1iegtKyZCCzQ"
      },
      "outputs": [],
      "source": [
        "import pandas as pd\n",
        "import numpy as np\n",
        "from keras.models import Sequential\n",
        "from keras.layers import Dense, Dropout\n",
        "\n",
        "previsores = pd.read_csv('entradas_breast.csv')\n",
        "classe = pd.read_csv('saidas_breast.csv')\n",
        "\n",
        "classificador = Sequential()\n",
        "classificador.add(Dense(units = 8, activation = 'relu', \n",
        "                        kernel_initializer = 'normal', input_dim = 30))\n",
        "classificador.add(Dropout(0.2))\n",
        "classificador.add(Dense(units = 8, activation = 'relu', \n",
        "                        kernel_initializer = 'normal'))\n",
        "classificador.add(Dropout(0.2))\n",
        "classificador.add(Dense(units = 1, activation = 'sigmoid'))\n",
        "classificador.compile(optimizer = 'adam', loss = 'binary_crossentropy',\n",
        "                      metrics = ['binary_accuracy'])\n",
        "classificador.fit(previsores, classe, batch_size = 10, epochs = 100)\n",
        "\n",
        "novo = np.array([[15.80, 8.34, 118, 900, 0.10, 0.26, 0.08, 0.134, 0.178,\n",
        "                  0.20, 0.05, 1098, 0.87, 4500, 145.2, 0.005, 0.04, 0.05, 0.015,\n",
        "                  0.03, 0.007, 23.15, 16.64, 178.5, 2018, 0.14, 0.185,\n",
        "                  0.84, 158, 0.363]])\n",
        "previsao = classificador.predict(novo)\n",
        "previsao = (previsao > 0.5)\n"
      ]
    }
  ]
}