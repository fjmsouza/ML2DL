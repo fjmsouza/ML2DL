{
  "nbformat": 4,
  "nbformat_minor": 0,
  "metadata": {
    "colab": {
      "provenance": [],
      "authorship_tag": "ABX9TyPFVnGCSoZN/2t3Y8075xo2",
      "include_colab_link": true
    },
    "kernelspec": {
      "name": "python3",
      "display_name": "Python 3"
    },
    "language_info": {
      "name": "python"
    }
  },
  "cells": [
    {
      "cell_type": "markdown",
      "metadata": {
        "id": "view-in-github",
        "colab_type": "text"
      },
      "source": [
        "<a href=\"https://colab.research.google.com/github/fjmsouza/ML2DL/blob/main/dl_az_breast_cancer_tuning.ipynb\" target=\"_parent\"><img src=\"https://colab.research.google.com/assets/colab-badge.svg\" alt=\"Open In Colab\"/></a>"
      ]
    },
    {
      "cell_type": "code",
      "execution_count": null,
      "metadata": {
        "id": "gOPwFbTlZVLw"
      },
      "outputs": [],
      "source": [
        "import pandas as pd\n",
        "import keras\n",
        "from keras.models import Sequential\n",
        "from keras.layers import Dense, Dropout\n",
        "from keras.wrappers.scikit_learn import KerasClassifier\n",
        "from sklearn.model_selection import GridSearchCV\n",
        "\n",
        "previsores = pd.read_csv('entradas_breast.csv')\n",
        "classe = pd.read_csv('saidas_breast.csv')\n",
        "\n",
        "def criarRede(optimizer, loos, kernel_initializer, activation, neurons):\n",
        "    classificador = Sequential()\n",
        "    classificador.add(Dense(units = neurons, activation = activation, \n",
        "                        kernel_initializer = kernel_initializer, input_dim = 30))\n",
        "    classificador.add(Dropout(0.2))\n",
        "    classificador.add(Dense(units = neurons, activation = activation, \n",
        "                        kernel_initializer = kernel_initializer))\n",
        "    classificador.add(Dropout(0.2))\n",
        "    classificador.add(Dense(units = 1, activation = 'sigmoid'))\n",
        "    classificador.compile(optimizer = optimizer, loss = loos,\n",
        "                      metrics = ['binary_accuracy'])\n",
        "    return classificador\n",
        "\n",
        "classificador = KerasClassifier(build_fn = criarRede)\n",
        "parametros = {'batch_size': [10, 30],\n",
        "              'epochs': [50, 100],\n",
        "              'optimizer': ['adam', 'sgd'],\n",
        "              'loos': ['binary_crossentropy', 'hinge'],\n",
        "              'kernel_initializer': ['random_uniform', 'normal'],\n",
        "              'activation': ['relu', 'tanh'],\n",
        "              'neurons': [16, 8]}\n",
        "grid_search = GridSearchCV(estimator = classificador,\n",
        "                           param_grid = parametros,\n",
        "                           scoring = 'accuracy',\n",
        "                           cv = 5)\n",
        "grid_search = grid_search.fit(previsores, classe)\n",
        "melhores_parametros = grid_search.best_params_\n",
        "melhor_precisao = grid_search.best_score_"
      ]
    }
  ]
}