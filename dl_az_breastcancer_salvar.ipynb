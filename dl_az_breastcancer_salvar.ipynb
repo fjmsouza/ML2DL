{
  "nbformat": 4,
  "nbformat_minor": 0,
  "metadata": {
    "colab": {
      "provenance": [],
      "authorship_tag": "ABX9TyMAVLBP35Ng1LU6/0AF246/",
      "include_colab_link": true
    },
    "kernelspec": {
      "name": "python3",
      "display_name": "Python 3"
    },
    "language_info": {
      "name": "python"
    }
  },
  "cells": [
    {
      "cell_type": "markdown",
      "metadata": {
        "id": "view-in-github",
        "colab_type": "text"
      },
      "source": [
        "<a href=\"https://colab.research.google.com/github/fjmsouza/ML2DL/blob/main/dl_az_breastcancer_salvar.ipynb\" target=\"_parent\"><img src=\"https://colab.research.google.com/assets/colab-badge.svg\" alt=\"Open In Colab\"/></a>"
      ]
    },
    {
      "cell_type": "code",
      "execution_count": null,
      "metadata": {
        "id": "dzhociMKixN4"
      },
      "outputs": [],
      "source": [
        "import pandas as pd\n",
        "from keras.models import Sequential\n",
        "from keras.layers import Dense, Dropout\n",
        "\n",
        "previsores = pd.read_csv('entradas_breast.csv')\n",
        "classe = pd.read_csv('saidas_breast.csv')\n",
        "\n",
        "classificador = Sequential()\n",
        "classificador.add(Dense(units = 8, activation = 'relu', \n",
        "                        kernel_initializer = 'normal', input_dim = 30))\n",
        "classificador.add(Dropout(0.2))\n",
        "classificador.add(Dense(units = 8, activation = 'relu', \n",
        "                        kernel_initializer = 'normal'))\n",
        "classificador.add(Dropout(0.2))\n",
        "classificador.add(Dense(units = 1, activation = 'sigmoid'))\n",
        "classificador.compile(optimizer = 'adam', loss = 'binary_crossentropy',\n",
        "                      metrics = ['binary_accuracy'])\n",
        "classificador.fit(previsores, classe, batch_size = 10, epochs = 100)\n",
        "\n",
        "classificador_json = classificador.to_json()\n",
        "with open('classificador_breast.json', 'w') as json_file:\n",
        "    json_file.write(classificador_json)\n",
        "classificador.save_weights('classificador_breast.h5')\n"
      ]
    }
  ]
}